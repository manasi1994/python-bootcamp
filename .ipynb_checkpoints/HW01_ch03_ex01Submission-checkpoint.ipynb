{
 "cells": [
  {
   "cell_type": "markdown",
   "metadata": {},
   "source": [
    "# HW02_ch03_ex01\n",
    "\n",
    "## Exercise 1 :\n",
    "- The function`right_justify` takes a string named `s` as a parameter and prints the string with enough leading spaces so that the\n",
    " last letter of the string is in column 70 of the display.\n"
   ]
  },
  {
   "cell_type": "code",
   "execution_count": 5,
   "metadata": {},
   "outputs": [
    {
     "name": "stdout",
     "output_type": "stream",
     "text": [
      "                                                               Python\n",
      "                                                               Manasi\n"
     ]
    }
   ],
   "source": [
    "#Body\n",
    "def right_justify(s):\n",
    "    l1=len(s)\n",
    "    for i in range(70-(l1+1)):\n",
    "        print(\" \",end='')\n",
    "    print(s)\n",
    "\n",
    "def main():\n",
    "    right_justify(\"Python\")\n",
    "    right_justify(\"Manasi\")\n",
    "\n",
    "\n",
    "if __name__ == \"__main__\":\n",
    "    main()     "
   ]
  },
  {
   "cell_type": "code",
   "execution_count": null,
   "metadata": {},
   "outputs": [],
   "source": []
  }
 ],
 "metadata": {
  "kernelspec": {
   "display_name": "Python 3",
   "language": "python",
   "name": "python3"
  },
  "language_info": {
   "codemirror_mode": {
    "name": "ipython",
    "version": 3
   },
   "file_extension": ".py",
   "mimetype": "text/x-python",
   "name": "python",
   "nbconvert_exporter": "python",
   "pygments_lexer": "ipython3",
   "version": "3.7.3"
  }
 },
 "nbformat": 4,
 "nbformat_minor": 2
}
