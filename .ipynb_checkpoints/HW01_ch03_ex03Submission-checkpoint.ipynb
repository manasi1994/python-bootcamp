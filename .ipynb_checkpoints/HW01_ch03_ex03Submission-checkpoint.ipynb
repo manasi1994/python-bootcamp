{
 "cells": [
  {
   "cell_type": "code",
   "execution_count": null,
   "metadata": {},
   "outputs": [],
   "source": [
    "\n",
    "# HW02_ch03_ex03\n",
    "\n",
    "##Question 1 :\n",
    "\n",
    "- Write a function that draws a grid like the following:\n",
    " + - - - - + - - - - +\n",
    " |         |         |\n",
    " |         |         |\n",
    " |         |         |\n",
    " |         |         |\n",
    " + - - - - + - - - - +\n",
    " |         |         |\n",
    " |         |         |\n",
    " |         |         |\n",
    " |         |         |\n",
    " + - - - - + - - - - +\n",
    "\n",
    "\n",
    "\n",
    "##Question 2 :\n",
    "- Write a function that draws a similar grid with four rows and four columns.\n"
   ]
  },
  {
   "cell_type": "code",
   "execution_count": 319,
   "metadata": {
    "scrolled": true
   },
   "outputs": [
    {
     "name": "stdout",
     "output_type": "stream",
     "text": [
      "+----+----+\n",
      "|    |    |\n",
      "|    |    |\n",
      "|    |    |\n",
      "|    |    |\n",
      "+----+----+\n",
      "|    |    |\n",
      "|    |    |\n",
      "|    |    |\n",
      "|    |    |\n",
      "+----+----+\n",
      "+------+------+------+------+\n",
      "|      |      |      |      |\n",
      "|      |      |      |      |\n",
      "|      |      |      |      |\n",
      "|      |      |      |      |\n",
      "+------+------+------+------+\n",
      "|      |      |      |      |\n",
      "|      |      |      |      |\n",
      "|      |      |      |      |\n",
      "|      |      |      |      |\n",
      "+------+------+------+------+\n",
      "|      |      |      |      |\n",
      "|      |      |      |      |\n",
      "|      |      |      |      |\n",
      "|      |      |      |      |\n",
      "+------+------+------+------+\n",
      "|      |      |      |      |\n",
      "|      |      |      |      |\n",
      "|      |      |      |      |\n",
      "|      |      |      |      |\n",
      "+------+------+------+------+\n"
     ]
    }
   ],
   "source": [
    "#Body\n",
    "def two_by_two():         \n",
    "    for j in range(3):\n",
    "        for i in range(5):\n",
    "            if(i%5==0):\n",
    "                for k in range(2):\n",
    "                    print('+',end='')\n",
    "                    for m in range(4):\n",
    "                        print('-',end='')\n",
    "                print('+')\n",
    "            else:\n",
    "                if(j==2):\n",
    "                    break\n",
    "                for l in range(2):\n",
    "                    print('|',end='')\n",
    "                    for n in range(4):\n",
    "                        print(' ',end='')\n",
    "                print('|')\n",
    "def four_by_four():         \n",
    "    for j in range(5):\n",
    "        for i in range(5):\n",
    "            if(i%5==0):\n",
    "                for k in range(4):\n",
    "                    print('+',end='')\n",
    "                    for m in range(6):\n",
    "                        print('-',end='')\n",
    "                print('+')\n",
    "            else:\n",
    "                if(j==4):\n",
    "                    break\n",
    "                for l in range(4):\n",
    "                    print('|',end='')\n",
    "                    for n in range(6):\n",
    "                        print(' ',end='')\n",
    "                print('|')\n",
    "\n",
    "def main():\n",
    "    two_by_two()\n",
    "    four_by_four()\n",
    "\n",
    "if __name__ == \"__main__\":\n",
    "    main()"
   ]
  },
  {
   "cell_type": "code",
   "execution_count": null,
   "metadata": {},
   "outputs": [],
   "source": []
  }
 ],
 "metadata": {
  "kernelspec": {
   "display_name": "Python 3",
   "language": "python",
   "name": "python3"
  },
  "language_info": {
   "codemirror_mode": {
    "name": "ipython",
    "version": 3
   },
   "file_extension": ".py",
   "mimetype": "text/x-python",
   "name": "python",
   "nbconvert_exporter": "python",
   "pygments_lexer": "ipython3",
   "version": "3.7.3"
  }
 },
 "nbformat": 4,
 "nbformat_minor": 2
}
