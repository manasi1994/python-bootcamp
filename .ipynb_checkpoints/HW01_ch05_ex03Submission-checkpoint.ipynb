{
 "cells": [
  {
   "cell_type": "markdown",
   "metadata": {},
   "source": [
    "# HW02_ch05_ex03\n",
    "\n",
    "## Function : is_triangle()\n",
    "- The function `is_triangle` takes three integers as arguments, and prints either \"Yes\" or \"No,\" \n",
    " depending on whether you can or cannot form a triangle from sticks with the given lengths.\n",
    "- If any of the three lengths is greater than the sum of the other two, then you cannot form a triangle. \n",
    "  Otherwise, you can.\n",
    "    \n",
    "## Function 2 : check_stick_lengths()\n",
    "- This function, prompts the user to input three stick lengths, converts them to integers, \n",
    "  and uses `is_triangle` to check whether sticks with the given lengths can form a triangle.\n"
   ]
  },
  {
   "cell_type": "code",
   "execution_count": 15,
   "metadata": {},
   "outputs": [
    {
     "name": "stdout",
     "output_type": "stream",
     "text": [
      "Yes\n",
      "No\n",
      "No\n",
      "No\n",
      "Please enter side1 of the triangle :3\n",
      "Please enter side2 of the triangle :2\n",
      "Please enter side3 of the triangle :1\n",
      "Yes\n",
      "The following triangle cannot be created!\n"
     ]
    }
   ],
   "source": [
    "def is_triangle(a,b,c):\n",
    "    if(a+b<c):\n",
    "        return print(\"No\")\n",
    "    elif(a+c<b):\n",
    "        return print(\"No\")\n",
    "    elif(b+c<a):\n",
    "        return print(\"No\")\n",
    "    else:\n",
    "        return print(\"Yes\")\n",
    "\n",
    "def check_stick_lengths():\n",
    "    a=int(input(\"Please enter side1 of the triangle :\"))\n",
    "    b=int(input(\"Please enter side2 of the triangle :\"))\n",
    "    c=int(input(\"Please enter side3 of the triangle :\"))\n",
    "    output=is_triangle(a,b,c)\n",
    "    if(output==\"Yes\"):\n",
    "        print(\"The following triangle can be created!\")\n",
    "    else:\n",
    "        print(\"The following triangle cannot be created!\")\n",
    "\n",
    "\n",
    "def main():\n",
    "    is_triangle(1,2,3)\n",
    "    is_triangle(1,2,4)\n",
    "    is_triangle(1,5,3)\n",
    "    is_triangle(6,2,3)\n",
    "    check_stick_lengths()\n",
    "    \n",
    "\n",
    "\n",
    "if __name__ == \"__main__\":\n",
    "    main()\n",
    "    "
   ]
  },
  {
   "cell_type": "code",
   "execution_count": null,
   "metadata": {},
   "outputs": [],
   "source": []
  },
  {
   "cell_type": "code",
   "execution_count": null,
   "metadata": {},
   "outputs": [],
   "source": []
  }
 ],
 "metadata": {
  "kernelspec": {
   "display_name": "Python 3",
   "language": "python",
   "name": "python3"
  },
  "language_info": {
   "codemirror_mode": {
    "name": "ipython",
    "version": 3
   },
   "file_extension": ".py",
   "mimetype": "text/x-python",
   "name": "python",
   "nbconvert_exporter": "python",
   "pygments_lexer": "ipython3",
   "version": "3.7.3"
  }
 },
 "nbformat": 4,
 "nbformat_minor": 2
}
