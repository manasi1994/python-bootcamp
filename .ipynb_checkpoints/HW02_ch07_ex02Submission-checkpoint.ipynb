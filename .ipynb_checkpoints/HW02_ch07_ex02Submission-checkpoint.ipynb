{
 "cells": [
  {
   "cell_type": "markdown",
   "metadata": {},
   "source": [
    "# HW04_ch07_ex02\n",
    "\n",
    "  The built-in function eval takes a string and evaluates it using the Python interpreter.\n",
    "  For example:\n",
    "\n",
    "    >>> eval('1 + 2 * 3')\n",
    "    7\n",
    "    >>> import math\n",
    "    >>> eval('math.sqrt(5)')\n",
    "    2.2360679774997898\n",
    "    eval('type(math.pi)')\n",
    "    <type 'float'>\n",
    "\n",
    "The function eval_loop iteratively prompts the user, takes\n",
    "the resulting input and evaluates it using eval, and prints the result.\n",
    "If the user enters a wrong value,an error message is printed.\n",
    "\n",
    "It  continues until the user enters 'done', and then return the value of\n",
    "the last expression it evaluated.\n"
   ]
  },
  {
   "cell_type": "code",
   "execution_count": 61,
   "metadata": {},
   "outputs": [
    {
     "name": "stdout",
     "output_type": "stream",
     "text": [
      "Please enter an expression1+2+3\n",
      "6\n",
      "Please enter another expression3+4\n",
      "7\n",
      "Please enter another expression4+2\n",
      "6\n",
      "Please enter another expression@+8\n",
      "Wrong Expression Entered\n",
      "Please enter another expression3+1\n",
      "4\n",
      "Please enter another expressionDONE\n",
      "This is the final value : 4\n"
     ]
    }
   ],
   "source": [
    "#Imports\n",
    "import math\n",
    "#Body\n",
    "def eval_loop():\n",
    "    count=0    \n",
    "    output=input(\"Please enter an expression\")\n",
    "    while(True):\n",
    "        try:\n",
    "            \n",
    "            if(output.casefold()=='done'):\n",
    "                if(count==0):\n",
    "                    return(\"Exiting Now\")\n",
    "                    break\n",
    "                return(\"This is the final value : {}\".format(temp))\n",
    "                break\n",
    "            else:\n",
    "                temp=eval(output)\n",
    "                print(temp)\n",
    "                count=count+1\n",
    "                output=input(\"Please enter another expression\")\n",
    "            \n",
    "        except SyntaxError:\n",
    "            print(\"Wrong Expression Entered - Syntax Error\")\n",
    "            output=input(\"Please enter another expression\")\n",
    "        except NameError:\n",
    "            print(\"Wrong Expression Entered - NameError\")\n",
    "            output=input(\"Please enter another expression\")\n",
    "        except TypeError:\n",
    "            print(\"Wrong Expression Entered - TypeError\")\n",
    "            output=input(\"Please enter another expression\")\n",
    "        \n",
    "                   \n",
    "            \n",
    "def main():\n",
    "    print(eval_loop())\n",
    "\n",
    "\n",
    "if __name__ == '__main__':\n",
    "    main()        "
   ]
  },
  {
   "cell_type": "code",
   "execution_count": null,
   "metadata": {},
   "outputs": [],
   "source": []
  }
 ],
 "metadata": {
  "kernelspec": {
   "display_name": "Python 3",
   "language": "python",
   "name": "python3"
  },
  "language_info": {
   "codemirror_mode": {
    "name": "ipython",
    "version": 3
   },
   "file_extension": ".py",
   "mimetype": "text/x-python",
   "name": "python",
   "nbconvert_exporter": "python",
   "pygments_lexer": "ipython3",
   "version": "3.7.3"
  }
 },
 "nbformat": 4,
 "nbformat_minor": 2
}
