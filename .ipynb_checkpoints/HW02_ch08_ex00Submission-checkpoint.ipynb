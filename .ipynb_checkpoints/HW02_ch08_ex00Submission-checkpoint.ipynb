{
 "cells": [
  {
   "cell_type": "markdown",
   "metadata": {},
   "source": [
    "# HW04_ch08_ex00\n",
    "\n",
    "The function count() counts the number of times the letter passed as an arguement appears in the string passed as the arguement:\n"
   ]
  },
  {
   "cell_type": "code",
   "execution_count": 11,
   "metadata": {},
   "outputs": [
    {
     "name": "stdout",
     "output_type": "stream",
     "text": [
      "The count of letter a in the word Manasi is 2 \n",
      "The count of letter u in the word Khanuja is 1 \n",
      "The count of letter a in the word banana is 3 \n",
      "The count of letter p in the word pythonprogramming is 2 \n"
     ]
    }
   ],
   "source": [
    "# Body\n",
    "def count(word,letter):\n",
    "    temp=word\n",
    "    count=0\n",
    "    for i in temp:\n",
    "        if i==letter:\n",
    "            count=count+1\n",
    "    return (\"The count of letter {} in the word {} is {} \".format(letter,word,count))\n",
    "    \n",
    "def main():\n",
    "    print(count(\"Manasi\",\"a\"))\n",
    "    print(count(\"Khanuja\",\"u\"))\n",
    "    print(count(\"banana\",\"a\"))\n",
    "    print(count(\"pythonprogramming\",\"p\"))\n",
    "\n",
    "if __name__ == '__main__':\n",
    "    main()"
   ]
  },
  {
   "cell_type": "code",
   "execution_count": null,
   "metadata": {},
   "outputs": [],
   "source": []
  },
  {
   "cell_type": "code",
   "execution_count": null,
   "metadata": {},
   "outputs": [],
   "source": []
  }
 ],
 "metadata": {
  "kernelspec": {
   "display_name": "Python 3",
   "language": "python",
   "name": "python3"
  },
  "language_info": {
   "codemirror_mode": {
    "name": "ipython",
    "version": 3
   },
   "file_extension": ".py",
   "mimetype": "text/x-python",
   "name": "python",
   "nbconvert_exporter": "python",
   "pygments_lexer": "ipython3",
   "version": "3.7.3"
  }
 },
 "nbformat": 4,
 "nbformat_minor": 2
}
