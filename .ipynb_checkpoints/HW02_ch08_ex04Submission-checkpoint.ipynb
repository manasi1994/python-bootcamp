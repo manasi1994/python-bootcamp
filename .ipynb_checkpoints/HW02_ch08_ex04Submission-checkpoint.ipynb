{
 "cells": [
  {
   "cell_type": "markdown",
   "metadata": {},
   "source": [
    "# HW04_ch08_ex04\n",
    "\n",
    "The following functions are all intended to check whether a string contains\n",
    "any lowercase letters, but at least some of them are wrong. \n",
    "Given below is the description of each function,what it actually does,and an explaination of what is wrong.\n",
    "\n",
    "- Function 1\n",
    "\n",
    "def any_lowercase1(s):\n",
    "    for c in s:\n",
    "        if c.islower():\n",
    "            return True\n",
    "        else:\n",
    "            return False\n",
    "            \n",
    "- Function 2\n",
    "\n",
    "def any_lowercase2(s):\n",
    "    \"\"\"Explain what is wrong, if anything, here.\n",
    "    \"\"\"\n",
    "    for c in s:\n",
    "        if 'c'.islower():\n",
    "            return 'True'\n",
    "        else:\n",
    "            return 'False'\n",
    "- Function 3\n",
    "\n",
    "def any_lowercase3(s):\n",
    "    \"\"\"Explain what is wrong, if anything, here.\n",
    "    \"\"\"\n",
    "    for c in s:\n",
    "        flag = c.islower()\n",
    "    return flag\n",
    "    \n",
    "- Function 4\n",
    "\n",
    "def any_lowercase4(s):\n",
    "    \"\"\"Explain what is wrong, if anything, here.\n",
    "    \"\"\"\n",
    "    flag = False\n",
    "    for c in s:\n",
    "        flag = flag or c.islower()\n",
    "    return flag\n",
    "    \n",
    "- Function 5\n",
    "\n",
    "def any_lowercase5(s):\n",
    "    \"\"\"Explain what is wrong, if anything, here.\n",
    "    \"\"\"\n",
    "    for c in s:\n",
    "        if not c.islower():\n",
    "            return False\n",
    "    return True\n",
    "\n"
   ]
  },
  {
   "cell_type": "code",
   "execution_count": 67,
   "metadata": {},
   "outputs": [
    {
     "name": "stdout",
     "output_type": "stream",
     "text": [
      "False\n"
     ]
    }
   ],
   "source": [
    "def any_lowercase1(s):\n",
    "    \"\"\"\n",
    "    This is an incorrect logic.\n",
    "    \n",
    "    The if condition only checks for the first letter in the word and returns the output.\n",
    "    It does not iterate through the entire word.\n",
    "    \"\"\"\n",
    "    \n",
    "    for c in s:\n",
    "        if c.islower():\n",
    "            \n",
    "            return True\n",
    "        else:\n",
    "            \n",
    "            return False\n",
    "\n",
    "\n",
    "def main():\n",
    "    print(any_lowercase1(\"OnN\"))\n",
    "\n",
    "if __name__ == '__main__':\n",
    "    main()"
   ]
  },
  {
   "cell_type": "code",
   "execution_count": 24,
   "metadata": {},
   "outputs": [
    {
     "name": "stdout",
     "output_type": "stream",
     "text": [
      "True\n"
     ]
    }
   ],
   "source": [
    "def any_lowercase2(s):\n",
    "    \"\"\"\n",
    "    This is a logical error.\n",
    "    1. True and False are in quotes.Since they are pre-defined datatypes in python,then should be written without quotes.\n",
    "    2. The variable c is written in quotes,therefore this function will always return True.\n",
    "    \"\"\"\n",
    "    for c in s:\n",
    "        if 'c'.islower():\n",
    "            \n",
    "            return 'True'\n",
    "        else:\n",
    "            return 'False'\n",
    "def main():\n",
    "    print(any_lowercase2(\"ONN\"))\n",
    "\n",
    "if __name__ == '__main__':\n",
    "    main()\n"
   ]
  },
  {
   "cell_type": "code",
   "execution_count": 34,
   "metadata": {},
   "outputs": [
    {
     "name": "stdout",
     "output_type": "stream",
     "text": [
      "False\n"
     ]
    }
   ],
   "source": [
    "\n",
    "def any_lowercase3(s):\n",
    "    \"\"\"\n",
    "    The code contains a logical error.\n",
    "    Even though there is a lower case letter in the word,the value of flag will be set to the last letter in the word\n",
    "    as the value of the other letters in the word are not stored anywhere.\n",
    "    \"\"\"\n",
    "    for c in s:\n",
    "        flag = c.islower()\n",
    "    return flag\n",
    "\n",
    "def main():\n",
    "    print(any_lowercase3(\"NnN\"))\n",
    "\n",
    "if __name__ == '__main__':\n",
    "    main()\n",
    "\n",
    "\n",
    "\n"
   ]
  },
  {
   "cell_type": "code",
   "execution_count": 65,
   "metadata": {},
   "outputs": [
    {
     "name": "stdout",
     "output_type": "stream",
     "text": [
      "True\n",
      "False\n",
      "True\n"
     ]
    }
   ],
   "source": [
    "def any_lowercase4(s):\n",
    "    \"\"\"The logic of this code is correct\n",
    "    \"\"\"\n",
    "    flag = False\n",
    "    for c in s:\n",
    "        flag = flag or c.islower()\n",
    "    return flag\n",
    "\n",
    "def main():\n",
    "    print(any_lowercase4(\"oN\"))\n",
    "    print(any_lowercase4(\"NN\"))\n",
    "    print(any_lowercase4(\"oNo\"))\n",
    "    \n",
    "\n",
    "if __name__ == '__main__':\n",
    "    main()"
   ]
  },
  {
   "cell_type": "code",
   "execution_count": 64,
   "metadata": {},
   "outputs": [
    {
     "name": "stdout",
     "output_type": "stream",
     "text": [
      "False\n"
     ]
    }
   ],
   "source": [
    "def any_lowercase5(s):\n",
    "    \"\"\"The logic for this code is incorrect because as soon as it encounters a captilized letter the if condition \n",
    "    becomes true and 'False' is returned.Therefore,this code does not work if the word entered comprises a mix of\n",
    "    lowercase and uppercase letters.\n",
    "    \"\"\"\n",
    "    for c in s:\n",
    "        if not c.islower():\n",
    "            return False\n",
    "    return True\n",
    "\n",
    "def main():\n",
    "    #print(any_lowercase5(\"oo\"))\n",
    "    #print(any_lowercase5(\"NoN\"))\n",
    "    print(any_lowercase5(\"oNo\"))\n",
    "    \n",
    "if __name__ == '__main__':\n",
    "    main()"
   ]
  },
  {
   "cell_type": "code",
   "execution_count": null,
   "metadata": {},
   "outputs": [],
   "source": []
  }
 ],
 "metadata": {
  "kernelspec": {
   "display_name": "Python 3",
   "language": "python",
   "name": "python3"
  },
  "language_info": {
   "codemirror_mode": {
    "name": "ipython",
    "version": 3
   },
   "file_extension": ".py",
   "mimetype": "text/x-python",
   "name": "python",
   "nbconvert_exporter": "python",
   "pygments_lexer": "ipython3",
   "version": "3.7.3"
  }
 },
 "nbformat": 4,
 "nbformat_minor": 2
}
