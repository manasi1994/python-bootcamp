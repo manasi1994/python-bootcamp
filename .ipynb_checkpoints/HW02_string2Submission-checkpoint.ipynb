{
 "cells": [
  {
   "cell_type": "markdown",
   "metadata": {},
   "source": [
    "# HW02_string2\n",
    "\n",
    "# Exercise 1 : Verbing\n",
    "- Given a string, if its length is at least 3,\n",
    "the function adds 'ing' to its end.\n",
    "- Unless it already ends in 'ing', in which case the function adds 'ly' instead.\n",
    "- If the string length is less than 3, the function does not change it.\n",
    "\n",
    "\n",
    "# Eexrcise 2 : not_bad\n",
    "- Given a string, the function finds the first appearance of the\n",
    "substring 'not' and 'bad'. If the 'bad' follows the 'not', it replaces the whole 'not'...'bad' substring with 'good'.\n",
    "\n",
    "\n",
    "# Exercise 3 : front_back\n",
    "- The function divides the string first into 2 halves. \n",
    "- If the length is even, the front and back halves are the same length.\n",
    "- If the length is odd, the extra char goes in the front half.\n",
    "- Given 2 strings, a and b, the function returns a string of the form a-front + b-front + a-back + b-back\n",
    "\n",
    "\n",
    "# Test : \n",
    "- This function returns what each function return vs. what it is supposed to return.\n",
    "\n"
   ]
  },
  {
   "cell_type": "code",
   "execution_count": 182,
   "metadata": {
    "scrolled": false
   },
   "outputs": [
    {
     "name": "stdout",
     "output_type": "stream",
     "text": [
      "verbing\n",
      " OK  got: 'hailing' expected: 'hailing'\n",
      " OK  got: 'swimingly' expected: 'swimingly'\n",
      " OK  got: 'do' expected: 'do'\n",
      "\n",
      "not_bad\n",
      " OK  got: 'This movie is good' expected: 'This movie is good'\n",
      " OK  got: 'This dinner is good' expected: 'This dinner is good'\n",
      " OK  got: 'This tea is not hot' expected: 'This tea is not hot'\n",
      " OK  got: \"It's bad yet not\" expected: \"It's bad yet not\"\n",
      "\n",
      "front_back\n",
      " OK  got: 'abxcdy' expected: 'abxcdy'\n",
      " OK  got: 'abcxydez' expected: 'abcxydez'\n",
      " OK  got: 'KitDontenut' expected: 'KitDontenut'\n"
     ]
    }
   ],
   "source": [
    "import re\n",
    "def verbing(s):\n",
    "    slength=len(s)\n",
    "    if(slength<3):\n",
    "        return s\n",
    "    else:\n",
    "        if(s[-3:]=='ing'):\n",
    "            return s+'ly'\n",
    "        else:\n",
    "            return s+'ing'\n",
    "\n",
    "def not_bad(s):\n",
    "    if(s.find(\"not\")<s.find(\"bad\")):\n",
    "        t1=s.find(\"not\")\n",
    "        t2=s.find(\"bad\")\n",
    "        t3=s.replace(s[t1:t2+3],\"good\")\n",
    "        return t3\n",
    "    else:\n",
    "        return s\n",
    "\n",
    "def front_back(s1,s2):\n",
    "    l1=len(s1)\n",
    "    l2=len(s2)\n",
    "    t1=0\n",
    "    t2=0\n",
    "    if((l1%2)==0):\n",
    "        t1=int(l1/2)\n",
    "        ts1=s1[:t1]\n",
    "        ts2=s1[t1:]\n",
    "    else:\n",
    "        t1=int(l1/2)+1\n",
    "        ts1=s1[:t1]\n",
    "        ts2=s1[t1:]\n",
    "    \n",
    "    if((l2%2)==0):\n",
    "        t2=int(l2/2)\n",
    "        tss1=s2[:t2]\n",
    "        tss2=s2[t2:]\n",
    "        \n",
    "    else:\n",
    "        t2=int(l1/2)\n",
    "        tss1=s2[:t2]\n",
    "        tss2=s2[t2:]\n",
    " \n",
    "    final_string=ts1+tss1+ts2+tss2\n",
    "    return final_string\n",
    "\n",
    "\n",
    "\n",
    "def test(got, expected):\n",
    "    if got == expected:\n",
    "        prefix = ' OK '\n",
    "    else:\n",
    "        prefix = '  X '\n",
    "    print('{} got: {} expected: {}'.format(prefix, repr(got), repr(expected)))\n",
    "\n",
    "    \n",
    "def main():\n",
    "    print('verbing')\n",
    "    test(verbing('hail'), 'hailing')\n",
    "    test(verbing('swiming'), 'swimingly')\n",
    "    test(verbing('do'), 'do')\n",
    "    \n",
    "    print()\n",
    "    print('not_bad')\n",
    "    test(not_bad('This movie is not so bad'), 'This movie is good')\n",
    "    test(not_bad('This dinner is not that bad'), 'This dinner is good')\n",
    "    test(not_bad('This tea is not hot'), 'This tea is not hot')\n",
    "    test(not_bad(\"It's bad yet not\"), \"It's bad yet not\")\n",
    "\n",
    "    print()\n",
    "    print('front_back')\n",
    "    test(front_back('abcd', 'xy'), 'abxcdy')\n",
    "    test(front_back('abcde', 'xyz'), 'abcxydez')\n",
    "    test(front_back('Kitten', 'Donut'), 'KitDontenut')\n",
    "\n",
    "if __name__ == '__main__':\n",
    "    main()"
   ]
  },
  {
   "cell_type": "code",
   "execution_count": 181,
   "metadata": {},
   "outputs": [
    {
     "name": "stdout",
     "output_type": "stream",
     "text": [
      "97\n"
     ]
    }
   ],
   "source": [
    "print(ord('a'))"
   ]
  },
  {
   "cell_type": "code",
   "execution_count": null,
   "metadata": {},
   "outputs": [],
   "source": []
  },
  {
   "cell_type": "code",
   "execution_count": null,
   "metadata": {},
   "outputs": [],
   "source": []
  }
 ],
 "metadata": {
  "kernelspec": {
   "display_name": "Python 3",
   "language": "python",
   "name": "python3"
  },
  "language_info": {
   "codemirror_mode": {
    "name": "ipython",
    "version": 3
   },
   "file_extension": ".py",
   "mimetype": "text/x-python",
   "name": "python",
   "nbconvert_exporter": "python",
   "pygments_lexer": "ipython3",
   "version": "3.7.3"
  }
 },
 "nbformat": 4,
 "nbformat_minor": 2
}
