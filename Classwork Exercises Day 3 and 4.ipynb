{
 "cells": [
  {
   "cell_type": "markdown",
   "metadata": {},
   "source": [
    "# LIST OPERATIONS - DAY 4"
   ]
  },
  {
   "cell_type": "code",
   "execution_count": 40,
   "metadata": {},
   "outputs": [
    {
     "name": "stdout",
     "output_type": "stream",
     "text": [
      "nachos\n",
      "golden bears\n",
      "nachos\n",
      "7\n",
      "17\n",
      "7\n",
      "The list awesome looks like ['golden bears', 'nachos', 7, 17] and it is of length 4\n"
     ]
    }
   ],
   "source": [
    "awesome =['golden bears','nachos',7,17]\n",
    "awesome1=[awesome,['1','fret',90.9]]\n",
    "awesome_2=[['golden bears',\"nachos\"],[7,17,7]]\n",
    "print(awesome_2[0][1])\n",
    "\n",
    "for i in range(len(awesome_2)):\n",
    "    for j in range(len(awesome_2[i])):\n",
    "        print(awesome_2[i][j])\n",
    "print(\"The list awesome looks like {0} and it is of length {1}\".format(awesome,len(awesome)))"
   ]
  },
  {
   "cell_type": "code",
   "execution_count": 43,
   "metadata": {},
   "outputs": [
    {
     "data": {
      "text/plain": [
       "['shoes', 'new', 'cool']"
      ]
     },
     "execution_count": 43,
     "metadata": {},
     "output_type": "execute_result"
    }
   ],
   "source": [
    "alist=[\"cool\",\"shoes\",\"new\"]\n",
    "alist.sort()\n",
    "alist[::-1]\n"
   ]
  },
  {
   "cell_type": "code",
   "execution_count": 46,
   "metadata": {},
   "outputs": [
    {
     "name": "stdout",
     "output_type": "stream",
     "text": [
      "['She', 'sells', 'sea', 'shells', 'on', 'the', 'seashore']\n"
     ]
    },
    {
     "data": {
      "text/plain": [
       "'She sells sea shells on the seashore'"
      ]
     },
     "execution_count": 46,
     "metadata": {},
     "output_type": "execute_result"
    }
   ],
   "source": [
    "phrase=\"She sells sea shells on the seashore\"\n",
    "words=phrase.split()\n",
    "print(words)\n",
    "\n",
    "' '.join(words)"
   ]
  },
  {
   "cell_type": "code",
   "execution_count": 50,
   "metadata": {},
   "outputs": [
    {
     "name": "stdout",
     "output_type": "stream",
     "text": [
      "Blist looks like [3, 4, 5]\n",
      "I changed alist to [3, 'hello', 5] and blist now looks like [3, 'hello', 5]\n",
      "Clist looks like [3, 4, 5]\n"
     ]
    }
   ],
   "source": [
    "import copy \n",
    "\n",
    "alist= [3,4,5]\n",
    "\n",
    "clist=copy.deepcopy(alist) #deepcopy\n",
    "blist=alist\n",
    "print(\"Blist looks like {}\".format(blist)) #shallowcopy\n",
    "alist[1]=\"hello\"\n",
    "print(\"I changed alist to {} and blist now looks like {}\".format(alist,blist))\n",
    "\n",
    "print(\"Clist looks like {}\".format(clist)) #deepcopy\n"
   ]
  },
  {
   "cell_type": "code",
   "execution_count": 66,
   "metadata": {},
   "outputs": [
    {
     "name": "stdout",
     "output_type": "stream",
     "text": [
      "<class 'str'>\n",
      "None\n"
     ]
    }
   ],
   "source": [
    "def chop(alist):\n",
    "    len1=len(alist)\n",
    "    alist.remove(alist[len1-1])\n",
    "    alist.remove(alist[0])\n",
    "    \n",
    "\n",
    "print(chop([1,2,3]))"
   ]
  },
  {
   "cell_type": "markdown",
   "metadata": {},
   "source": [
    "# OS Functions"
   ]
  },
  {
   "cell_type": "code",
   "execution_count": 14,
   "metadata": {},
   "outputs": [],
   "source": [
    "import os\n",
    "file_handle = open('words.txt','r')\n"
   ]
  },
  {
   "cell_type": "code",
   "execution_count": 16,
   "metadata": {},
   "outputs": [
    {
     "data": {
      "text/plain": [
       "'aahing\\n'"
      ]
     },
     "execution_count": 16,
     "metadata": {},
     "output_type": "execute_result"
    }
   ],
   "source": [
    "file_handle.seek(16)\n",
    "file_handle.readline()"
   ]
  },
  {
   "cell_type": "code",
   "execution_count": 17,
   "metadata": {},
   "outputs": [],
   "source": [
    "file_handle1=open(\"temp.txt\",\"w\")\n",
    "file_handle1.write(\"This is a file I am making now\")\n",
    "file_handle1.close()"
   ]
  },
  {
   "cell_type": "markdown",
   "metadata": {},
   "source": [
    "# Repr"
   ]
  },
  {
   "cell_type": "code",
   "execution_count": 5,
   "metadata": {},
   "outputs": [
    {
     "name": "stdout",
     "output_type": "stream",
     "text": [
      "<built-in method conjugate of float object at 0x105d4d408>\n"
     ]
    }
   ],
   "source": [
    "import math\n",
    "def WhatIsRepr(x):\n",
    "    print(repr(x))\n",
    "WhatIsRepr(math.pi.conjugate)"
   ]
  },
  {
   "cell_type": "code",
   "execution_count": 6,
   "metadata": {},
   "outputs": [
    {
     "name": "stdout",
     "output_type": "stream",
     "text": [
      "6\n",
      "8\n",
      "10\n",
      "12\n",
      "14\n",
      "16\n",
      "18\n",
      "20\n",
      "22\n",
      "24\n",
      "26\n",
      "28\n",
      "30\n",
      "32\n",
      "34\n",
      "36\n",
      "38\n"
     ]
    }
   ],
   "source": [
    "for i in range(5,40):\n",
    "    if(i%2!=0):\n",
    "        continue\n",
    "    print(i)"
   ]
  },
  {
   "cell_type": "code",
   "execution_count": null,
   "metadata": {},
   "outputs": [],
   "source": []
  }
 ],
 "metadata": {
  "kernelspec": {
   "display_name": "Python 3",
   "language": "python",
   "name": "python3"
  },
  "language_info": {
   "codemirror_mode": {
    "name": "ipython",
    "version": 3
   },
   "file_extension": ".py",
   "mimetype": "text/x-python",
   "name": "python",
   "nbconvert_exporter": "python",
   "pygments_lexer": "ipython3",
   "version": "3.7.3"
  }
 },
 "nbformat": 4,
 "nbformat_minor": 2
}
