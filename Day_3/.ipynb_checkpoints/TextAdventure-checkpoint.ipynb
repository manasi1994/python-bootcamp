{
 "cells": [
  {
   "cell_type": "code",
   "execution_count": 21,
   "metadata": {},
   "outputs": [],
   "source": [
    "# Imports\n",
    "from sys import exit"
   ]
  },
  {
   "cell_type": "markdown",
   "metadata": {},
   "source": [
    "# Function : infinite_stairway_room(count=0)"
   ]
  },
  {
   "cell_type": "code",
   "execution_count": 22,
   "metadata": {},
   "outputs": [],
   "source": [
    "# Body\n",
    "def infinite_stairway_room(count=0):\n",
    "    print(\"You walk through the door to see a dimly lit hallway.\")\n",
    "    print(\"At the end of the hallway is a\", count * 'long ', 'staircase'\n",
    "          \" going towards some light\")\n",
    "    next = input(\"> \")\n",
    "\n",
    "    # infinite stairs option\n",
    "    if next == \"take stairs\":\n",
    "        print('You take the stairs')\n",
    "        if (count > 0):\n",
    "            print(\"but you're not happy about it\")\n",
    "        infinite_stairway_room(count + 1)\n",
    "    # option 2 == ?????\n",
    "    if next == option_2:\n",
    "        pass"
   ]
  },
  {
   "cell_type": "code",
   "execution_count": 23,
   "metadata": {},
   "outputs": [],
   "source": [
    "def gold_room():\n",
    "    print(\"This room is full of gold.  How much do you take?\")\n",
    "\n",
    "    next = input(\"> \")\n",
    "    if \"0\" in next or \"1\" in next:\n",
    "        how_much = int(next)\n",
    "    else:\n",
    "        dead(\"Man, learn to type a number.\")\n",
    "\n",
    "    if how_much < 50:\n",
    "        print(\"Nice, you're not greedy, you win!\")\n",
    "        exit(0)\n",
    "    else:\n",
    "        dead(\"You greedy goose!\")"
   ]
  },
  {
   "cell_type": "code",
   "execution_count": 24,
   "metadata": {},
   "outputs": [],
   "source": [
    "def bear_room():\n",
    "    print(\"There is a bear here.\")\n",
    "    print(\"The bear has a bunch of honey.\")\n",
    "    print(\"The bear is in front of another door.\")\n",
    "    print(\"How are you going to move the bear?\")\n",
    "    bear_moved = False\n",
    "\n",
    "    while True:\n",
    "        next = input(\"> \")\n",
    "        if next == \"take honey\":\n",
    "            dead(\"The bear looks at you then laughs at you.\")\n",
    "        elif next == \"taunt bear\" and not bear_moved:\n",
    "            print(\"The bear has moved from the door. You can go through it\"\n",
    "                  \"now.\")\n",
    "            bear_moved = True\n",
    "        elif next == \"taunt bear\" and bear_moved:\n",
    "            dead(\"The bear gets angry and chases you.\")\n",
    "        elif next == \"open door\" and bear_moved:\n",
    "            gold_room()\n",
    "        else:\n",
    "            print(\"I got no idea what that means.\")"
   ]
  },
  {
   "cell_type": "code",
   "execution_count": 25,
   "metadata": {},
   "outputs": [],
   "source": [
    "def cthulhu_room():\n",
    "    print(\"Here you see the great evil Cthulhu.\")\n",
    "    print(\"He, it, whatever stares at you and you freeze.\")\n",
    "    print(\"Do you flee for your life or try to make friends?\")\n",
    "\n",
    "    next = input(\"> \")\n",
    "\n",
    "    if \"flee\" in next:\n",
    "        start()\n",
    "    elif \"friends\" in next:\n",
    "        dead(\"Well that was tasty!\")\n",
    "    else:\n",
    "        cthulhu_room()"
   ]
  },
  {
   "cell_type": "code",
   "execution_count": 26,
   "metadata": {},
   "outputs": [],
   "source": [
    "def dead(why):\n",
    "    print(\"{}\\n Good job!\".format(why))\n",
    "    #exit(0)"
   ]
  },
  {
   "cell_type": "code",
   "execution_count": null,
   "metadata": {},
   "outputs": [
    {
     "name": "stdout",
     "output_type": "stream",
     "text": [
      "You are in a dark room.\n",
      "There is a door to your right and left.\n",
      "Which one do you take?\n"
     ]
    }
   ],
   "source": [
    "def main():\n",
    "    # START the TextAdventure game\n",
    "    print(\"You are in a dark room.\")\n",
    "    print(\"There is a door to your right and left.\")\n",
    "    print(\"Which one do you take?\")\n",
    "\n",
    "    next = input(\"> \")\n",
    "\n",
    "    if next == \"left\":\n",
    "        bear_room()\n",
    "    elif next == \"right\":\n",
    "        cthulhu_room()\n",
    "    else:\n",
    "        dead(\"You stumble around the room until you starve.\")\n",
    "if __name__ == '__main__':\n",
    "    main()"
   ]
  },
  {
   "cell_type": "code",
   "execution_count": null,
   "metadata": {},
   "outputs": [],
   "source": []
  }
 ],
 "metadata": {
  "kernelspec": {
   "display_name": "Python 3",
   "language": "python",
   "name": "python3"
  },
  "language_info": {
   "codemirror_mode": {
    "name": "ipython",
    "version": 3
   },
   "file_extension": ".py",
   "mimetype": "text/x-python",
   "name": "python",
   "nbconvert_exporter": "python",
   "pygments_lexer": "ipython3",
   "version": "3.7.3"
  }
 },
 "nbformat": 4,
 "nbformat_minor": 2
}
