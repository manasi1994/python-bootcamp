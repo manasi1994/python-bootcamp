{
 "cells": [
  {
   "cell_type": "code",
   "execution_count": 47,
   "metadata": {},
   "outputs": [
    {
     "name": "stdout",
     "output_type": "stream",
     "text": [
      "The list of the usernames is : \n",
      " ['Prakhar', 'Tiffany', 'Mandy', 'Akshara', 'Nicole', 'Manasi', 'Ramya', 'Max', 'Brinda', 'Yin', 'Min', 'Arika', 'Esther', 'Nitin', 'Joanne']\n",
      "\n",
      "\n",
      "The list of the usernames and git usernames is : \n",
      " [['Prakhar', 'prakharchandna'], ['Tiffany', 'nameistiffyp'], ['Mandy', 'mleung32'], ['Akshara', 'akshara08'], ['Nicole', 'nicoletchi'], ['Manasi', 'manasi1994'], ['Ramya', 'Ramya0694'], ['Max', 'maxmir20'], ['Brinda', 'brinsga'], ['Yin', 'qyinhelena'], ['Min', 'Hyung'], ['Arika', 'ArikaVerma'], ['Esther', 'estherjan'], ['Nitin', 'NiStannum'], ['Joanne', 'joannejia17']]\n",
      "\n",
      "\n",
      "The sorted list of the usernames is : \n",
      " ['Max', 'Yin', 'Min', 'Mandy', 'Ramya', 'Arika', 'Nitin', 'Nicole', 'Manasi', 'Brinda', 'Esther', 'Joanne', 'Prakhar', 'Tiffany', 'Akshara'] \n"
     ]
    }
   ],
   "source": [
    "import os\n",
    "\n",
    "file_handel=open(\"roster.txt\",\"r\")\n",
    "list1=list(file_handel.readlines())\n",
    "list_usernames=[]\n",
    "list_username_git=[]\n",
    "\n",
    "for i in range(len(list1)):\n",
    "    temp1=str(list1[i])\n",
    "    temp2=temp1.split(' ')\n",
    "    usernames=(temp2[0])\n",
    "    github_username=(temp2[1])\n",
    "    list_usernames.append(usernames)\n",
    "    list_username_git.append([usernames,github_username.strip('\\n')])\n",
    "\n",
    "print(\"The list of the usernames is : \\n {}\".format(list_usernames))\n",
    "print(\"\\n\")\n",
    "print(\"The list of the usernames and git usernames is : \\n {}\".format(list_username_git))\n",
    "print(\"\\n\")\n",
    "list_usernames.sort(key=len)\n",
    "print(\"The sorted list of the usernames is : \\n {} \".format(list_usernames))\n",
    "\n",
    "\n"
   ]
  },
  {
   "cell_type": "code",
   "execution_count": null,
   "metadata": {},
   "outputs": [],
   "source": []
  }
 ],
 "metadata": {
  "kernelspec": {
   "display_name": "Python 3",
   "language": "python",
   "name": "python3"
  },
  "language_info": {
   "codemirror_mode": {
    "name": "ipython",
    "version": 3
   },
   "file_extension": ".py",
   "mimetype": "text/x-python",
   "name": "python",
   "nbconvert_exporter": "python",
   "pygments_lexer": "ipython3",
   "version": "3.7.3"
  }
 },
 "nbformat": 4,
 "nbformat_minor": 2
}
