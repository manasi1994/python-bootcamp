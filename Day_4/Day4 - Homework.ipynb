{
 "cells": [
  {
   "cell_type": "markdown",
   "metadata": {},
   "source": [
    "# HW05_ex00_logics"
   ]
  },
  {
   "cell_type": "code",
   "execution_count": null,
   "metadata": {},
   "outputs": [],
   "source": [
    "#!/usr/bin/env python3\n",
    "# HW05_ex00_logics.py\n",
    "\n",
    "\n",
    "##############################################################################\n",
    "def even_odd():\n",
    "    \"\"\" Print even or odd:\n",
    "        Takes one integer from user\n",
    "            accepts only non-word numerals\n",
    "            must validate\n",
    "        Determines if even or odd\n",
    "        Prints determination\n",
    "        returns None\n",
    "    \"\"\"\n",
    "    pass\n",
    "\n",
    "\n",
    "def ten_by_ten():\n",
    "    \"\"\" Prints integers 1 through 100 sequentially in a ten by ten grid.\"\"\"\n",
    "    pass\n",
    "\n",
    "\n",
    "def find_average():\n",
    "    \"\"\" Takes numeric input (non-word numerals) from the user, one number\n",
    "    at a time. Once the user types 'done', returns the average.\n",
    "    \"\"\"\n",
    "    pass\n",
    "\n",
    "\n",
    "##############################################################################\n",
    "def main():\n",
    "    \"\"\" Calls the following functions:\n",
    "        - even_odd()\n",
    "        - ten_by_ten()\n",
    "    Prints the following function:\n",
    "        - find_average()\n",
    "    \"\"\"\n",
    "    pass\n",
    "\n",
    "\n",
    "if __name__ == '__main__':\n",
    "    main()"
   ]
  },
  {
   "cell_type": "code",
   "execution_count": 14,
   "metadata": {},
   "outputs": [
    {
     "name": "stdout",
     "output_type": "stream",
     "text": [
      "Please enter a number3\n",
      "This is an odd number\n",
      "None\n"
     ]
    }
   ],
   "source": [
    "def even_odd():\n",
    "    num=input(\"Please enter a number\")\n",
    "    if(num.isdigit()):\n",
    "        if(int(num)%2==0):\n",
    "            print(\"This is an even number\")\n",
    "        else:\n",
    "            print(\"This is an odd number\")\n",
    "    else:\n",
    "        print(\"Please enter a valid number!\")\n",
    "        \n",
    "\n"
   ]
  },
  {
   "cell_type": "code",
   "execution_count": 23,
   "metadata": {},
   "outputs": [
    {
     "name": "stdout",
     "output_type": "stream",
     "text": [
      "\n",
      "\n",
      "12345678910\n",
      "\n",
      "11121314151617181920\n",
      "\n",
      "21222324252627282930\n",
      "\n",
      "31323334353637383940\n",
      "\n",
      "41424344454647484950\n",
      "\n",
      "51525354555657585960\n",
      "\n",
      "61626364656667686970\n",
      "\n",
      "71727374757677787980\n",
      "\n",
      "81828384858687888990\n",
      "\n",
      "919293949596979899100"
     ]
    }
   ],
   "source": [
    "def ten_by_ten():\n",
    "    count=0\n",
    "    for i in range(10):\n",
    "        print(\"\\n\")\n",
    "        for j in range(10):\n",
    "            count=count+1\n",
    "            print(count,end=\"\")\n",
    "            #print(\"\\n\")\n",
    "#ten_by_ten()\n",
    "            "
   ]
  },
  {
   "cell_type": "code",
   "execution_count": 29,
   "metadata": {},
   "outputs": [
    {
     "name": "stdout",
     "output_type": "stream",
     "text": [
      "Please enter a number2\n",
      "Please enter a number3\n",
      "Please enter a number4\n",
      "Please enter a number5\n",
      "Please enter a numberdone\n",
      "The average of the numbers entered is 3.5 :\n"
     ]
    }
   ],
   "source": [
    "def find_average():\n",
    "    num=input(\"Please enter a number\")\n",
    "    sum1=0\n",
    "    list4=[]\n",
    "    \n",
    "    while(num!=\"done\".casefold()):\n",
    "        list4.append(int(num))\n",
    "        num=input(\"Please enter a number\")\n",
    "    \n",
    "    len1=len(list4)\n",
    "    \n",
    "    for i in list4:\n",
    "        sum1=sum1+i\n",
    "    avg=sum1/len1\n",
    "    return (avg)\n",
    "\n",
    "#find_average()\n",
    "    "
   ]
  },
  {
   "cell_type": "code",
   "execution_count": 36,
   "metadata": {},
   "outputs": [
    {
     "name": "stdout",
     "output_type": "stream",
     "text": [
      "Output 1\n",
      "Please enter a number3\n",
      "This is an odd number\n",
      "None\n",
      "Output 2\n",
      "\n",
      "\n",
      "12345678910\n",
      "\n",
      "11121314151617181920\n",
      "\n",
      "21222324252627282930\n",
      "\n",
      "31323334353637383940\n",
      "\n",
      "41424344454647484950\n",
      "\n",
      "51525354555657585960\n",
      "\n",
      "61626364656667686970\n",
      "\n",
      "71727374757677787980\n",
      "\n",
      "81828384858687888990\n",
      "\n",
      "919293949596979899100Output 3\n",
      "Please enter a number4\n",
      "Please enter a number5\n",
      "Please enter a numberdone\n",
      "The average of the numbers entered is 4.5 :\n",
      "None\n"
     ]
    }
   ],
   "source": [
    "def main():\n",
    "    print(\"Output 1\")\n",
    "    print(even_odd())\n",
    "    print(\"Output 2\")\n",
    "    ten_by_ten()\n",
    "    print(\"Output 3\")\n",
    "    print(find_average())\n",
    "    \n",
    "    \n",
    "if __name__ == '__main__':\n",
    "    main()"
   ]
  },
  {
   "cell_type": "markdown",
   "metadata": {},
   "source": [
    "\n",
    "\n",
    "\n",
    "# HW04_ch09_ex02Submission"
   ]
  },
  {
   "cell_type": "code",
   "execution_count": null,
   "metadata": {},
   "outputs": [],
   "source": [
    "#!/usr/bin/env python3\n",
    "\n",
    "# (1)\n",
    "# Write a function called has_no_e that returns True if the given word doesn't\n",
    "# have the letter \"e\" in it.\n",
    "#   - write has_no_e\n",
    "# (2)\n",
    "# Modify your program from 9.1 to print only the words that have no \"e\" and\n",
    "# compute the percentage of the words in the list that have no \"e\".\n",
    "#   - print each approved word on new line, followed at the end by the %\n",
    "#   - name your function print_no_e\n",
    "##############################################################################\n",
    "# Imports\n",
    "\n",
    "# Body\n",
    "\n",
    "\n",
    "##############################################################################\n",
    "def main():\n",
    "    pass  # Call your function(s) here.\n",
    "\n",
    "\n",
    "if __name__ == '__main__':\n",
    "    main()\n",
    "\n"
   ]
  },
  {
   "cell_type": "code",
   "execution_count": 20,
   "metadata": {},
   "outputs": [
    {
     "name": "stdout",
     "output_type": "stream",
     "text": [
      "True\n"
     ]
    }
   ],
   "source": [
    "def has_no_e(s):\n",
    "    for i in s:\n",
    "        if 'e' not in s:\n",
    "            return True\n",
    "        else:\n",
    "            return False\n",
    "def main():\n",
    "    print(has_no_e('Manasi'))\n",
    "\n",
    "if __name__ == '__main__':\n",
    "    main()\n",
    "\n",
    "\n"
   ]
  },
  {
   "cell_type": "code",
   "execution_count": 63,
   "metadata": {},
   "outputs": [
    {
     "name": "stdout",
     "output_type": "stream",
     "text": [
      "Words without 'e' : ['Manasi', 'Ramya'] \n",
      "The percentage of words that do not have an e in them : 66.66666666666666 %\n",
      "['Manasi', 'Ramya']\n"
     ]
    }
   ],
   "source": [
    "#Body\n",
    "def print_no_e(aList):\n",
    "    bList=[]\n",
    "    len1=len(aList)\n",
    "    for i in range(len(aList)):\n",
    "        if(aList[i].find('e')==True):\n",
    "            continue\n",
    "        else:\n",
    "            bList.append(aList[i])\n",
    "    \n",
    "    len2=len(bList)\n",
    "    \n",
    "    perc=(len2/len1)*100\n",
    "    print(\"Words without 'e' : {} \\nThe percentage of words that do not have an e in them : {} %\".format(bList,perc))\n",
    "    print(bList)\n",
    "\n",
    "\n",
    "def main():\n",
    "   print_no_e(['Manasi','Eepsita','Ramya'])\n",
    "    \n",
    "if __name__ == '__main__':\n",
    "    main()\n"
   ]
  },
  {
   "cell_type": "markdown",
   "metadata": {},
   "source": [
    "# HW04_ch09_ex03 Submission"
   ]
  },
  {
   "cell_type": "code",
   "execution_count": null,
   "metadata": {},
   "outputs": [],
   "source": [
    "!/usr/bin/env python3\n",
    "\n",
    "# (1)\n",
    "# Write a function named avoids that takes a word and a string of forbidden\n",
    "# letters, and that returns True if the word doesn't use any of the forbidden\n",
    "# letters.\n",
    "#   - write avoids\n",
    "# (2)\n",
    "# Modify your program to prompt the user to enter a string of forbidden\n",
    "# letters and then print the number of words that don't contain any of them.\n",
    "#   - write forbidden_prompt and\n",
    "#   - modify to create forbidden_param that accepts the string as an argument\n",
    "# (3)\n",
    "# Can you find a combination of 5 forbidden letters that excludes the smallest\n",
    "# number of words?\n",
    "#   - write a function that finds this combination of letters: find_five\n",
    "#   - have that function print the letters and print the # of words excluded\n",
    "##############################################################################\n",
    "# Imports\n",
    "\n",
    "# Body\n",
    "\n",
    "\n",
    "def avoids():\n",
    "    \"\"\" return True if word NOT forbidden\"\"\"\n",
    "    pass\n",
    "\n",
    "\n",
    "def forbidden_prompt():\n",
    "    \"\"\" print count of words NOT forbidden by input\"\"\"\n",
    "    pass\n",
    "\n",
    "\n",
    "def forbidden_param():\n",
    "    \"\"\" return count of words NOT forbidden by param\"\"\"\n",
    "    pass\n",
    "\n"
   ]
  },
  {
   "cell_type": "code",
   "execution_count": 58,
   "metadata": {},
   "outputs": [
    {
     "data": {
      "text/plain": [
       "False"
      ]
     },
     "execution_count": 58,
     "metadata": {},
     "output_type": "execute_result"
    }
   ],
   "source": [
    "def avoids(s,forbidden):\n",
    "    for i in forbidden:\n",
    "        for j in s:\n",
    "            if i==j:\n",
    "                return False\n",
    "    return True\n",
    "avoids('Manasi','casi')\n",
    "    "
   ]
  },
  {
   "cell_type": "code",
   "execution_count": 59,
   "metadata": {},
   "outputs": [
    {
     "name": "stdout",
     "output_type": "stream",
     "text": [
      "The count of the words that do not contain the forbidden letters is : 2\n"
     ]
    }
   ],
   "source": [
    "def forbidden_prompt(aList,forbidden_words):\n",
    "    #forbidden_words=input(\"Please input the list of words :\")\n",
    "    list3=[]\n",
    "    count=0\n",
    "    for j in aList:\n",
    "        n=avoids(j,forbidden_words)\n",
    "        if(n==True):\n",
    "            count=count+1\n",
    "    return count \n",
    "\n",
    "print(\"The count of the words that do not contain the forbidden letters is : {}\"\n",
    "      .format(forbidden_prompt(['Mana','Khanuja','ok'],'M')))\n",
    "\n"
   ]
  },
  {
   "cell_type": "code",
   "execution_count": 60,
   "metadata": {
    "scrolled": true
   },
   "outputs": [
    {
     "name": "stdout",
     "output_type": "stream",
     "text": [
      "('p', 1)\n",
      "('h', 1)\n",
      "('i', 1)\n",
      "('r', 2)\n",
      "('t', 2)\n",
      "('d', 1)\n",
      "('l', 0)\n"
     ]
    }
   ],
   "source": [
    "def find_five1(s,forbidden_letters):\n",
    "    dict_count={}\n",
    "    count=0\n",
    "    temp=s.split(\" \")\n",
    "    \n",
    "    for j in forbidden_letters:\n",
    "        count=0\n",
    "        for k in temp:\n",
    "            if j in k:\n",
    "                count=count+1\n",
    "        dict_count[j]=count\n",
    "    for k in dict_count.items():\n",
    "        print(k)\n",
    "        \n",
    "find_five1(\"Python is pretty rad\",\"phirtdl\")          "
   ]
  },
  {
   "cell_type": "markdown",
   "metadata": {},
   "source": [
    "# Alternate Interpretion of the question"
   ]
  },
  {
   "cell_type": "code",
   "execution_count": 62,
   "metadata": {
    "scrolled": true
   },
   "outputs": [
    {
     "name": "stdout",
     "output_type": "stream",
     "text": [
      "['polki', 'polkh']\n"
     ]
    }
   ],
   "source": [
    "from itertools import combinations\n",
    "\n",
    "def find_five(bList,forbidden_letters):\n",
    "    keywords = combinations(list(forbidden_letters),5)\n",
    "    temp=[''.join(i) for i in keywords]\n",
    "    dict_count={}\n",
    "    count=0\n",
    "    list_temp=[]\n",
    "    for k in temp:\n",
    "        count=forbidden_prompt(bList,k)\n",
    "        dict_count[k]=count\n",
    "    mx = max(dict_count.values())\n",
    "    temp=[k for k, v in dict_count.items() if v == mx]\n",
    "    print(temp)\n",
    "\n",
    "find_five(['Manasi','Khanuja','ok'],'polkih')\n"
   ]
  },
  {
   "cell_type": "markdown",
   "metadata": {},
   "source": [
    "#  HW04_ch09_ex04 Submission"
   ]
  },
  {
   "cell_type": "code",
   "execution_count": null,
   "metadata": {},
   "outputs": [],
   "source": [
    "#!/usr/bin/env python\n",
    "\n",
    "# (1)\n",
    "# Write a function named uses_only that takes a word and a string of letters,\n",
    "# and that returns True if the word contains only letters in the list.\n",
    "#   - write uses_only\n",
    "# (2)\n",
    "# Can you make a sentence using only the letters acefhlo? Other than \"Hoe\n",
    "# alfalfa?\"\n",
    "#   - write function to assist you\n",
    "#   - manually type favorite sentence(s) here:-Pending\n",
    "#       1:\n",
    "#       2:\n",
    "#       3:\n",
    "##############################################################################\n",
    "# Imports\n",
    "\n",
    "# Body\n",
    "\n",
    "\n",
    "##############################################################################\n",
    "def main():\n",
    "    pass  # Call your function(s) here.\n",
    "\n",
    "\n",
    "if __name__ == '__main__':\n",
    "    main()\n",
    "\n"
   ]
  },
  {
   "cell_type": "code",
   "execution_count": 16,
   "metadata": {},
   "outputs": [
    {
     "name": "stdout",
     "output_type": "stream",
     "text": [
      "True\n"
     ]
    }
   ],
   "source": [
    "def uses_only(word,s):\n",
    "    #string1=''.join(s)\n",
    "    for i in s:\n",
    "        if(word.find(i) == -1):\n",
    "            return False\n",
    "            break\n",
    "    return True\n",
    "\n",
    "\n",
    "def main():\n",
    "    print(uses_only(\"abc\",['a','b','c']))\n",
    "if __name__=='__main__':\n",
    "    main()"
   ]
  },
  {
   "cell_type": "code",
   "execution_count": 45,
   "metadata": {},
   "outputs": [
    {
     "name": "stdout",
     "output_type": "stream",
     "text": [
      "['fecal', 'focal']\n"
     ]
    }
   ],
   "source": [
    "from nltk.corpus import words\n",
    "from itertools import permutations\n",
    "import math\n",
    "\n",
    "def valid_english_words():\n",
    "    word_list = words.words()\n",
    "    s1=\"aceflo\"\n",
    "    list_temp=[]\n",
    "    len1=len(s1)\n",
    "    for i in range(len1):\n",
    "        #print(i)\n",
    "        word_comb=[''.join(p) for p in permutations(s1,i)]\n",
    "        list_temp.append(word_comb)\n",
    "        #print(word_comb)\n",
    "    \n",
    "    #print(word_comb)\n",
    "    list4=[]\n",
    "    for i in word_comb:\n",
    "        if i in word_list:\n",
    "            #print(i)\n",
    "            list4.append(i)\n",
    "    return(list4)\n",
    "\n",
    "def main():\n",
    "    print(valid_english_words())\n",
    "if __name__=='__main__':\n",
    "    main()"
   ]
  },
  {
   "cell_type": "markdown",
   "metadata": {},
   "source": [
    "# HW04_ch09_ex05 Submission"
   ]
  },
  {
   "cell_type": "code",
   "execution_count": null,
   "metadata": {},
   "outputs": [],
   "source": [
    "#!/usr/bin/env python3\n",
    "\n",
    "# (1)\n",
    "# Write a function named uses_all that takes a word and a string of required\n",
    "# letters, and that returns True if the word uses all the required letters at\n",
    "# least once.\n",
    "#   - write uses_all\n",
    "# (2)\n",
    "# How many words are there that use all the vowels aeiou? How about\n",
    "# aeiouy?\n",
    "#   - write functions(s) to assist you\n",
    "#   - # of words that use all aeiou: [type here]\n",
    "#   - # of words that use all aeiouy: [type here]\n",
    "##############################################################################\n",
    "# Imports\n",
    "\n",
    "# Body\n",
    "\n",
    "\n",
    "##############################################################################\n",
    "def main():\n",
    "    pass  # Call your function(s) here.\n",
    "\n",
    "\n",
    "if __name__ == '__main__':\n",
    "    main()\n",
    "\n"
   ]
  },
  {
   "cell_type": "code",
   "execution_count": 125,
   "metadata": {},
   "outputs": [
    {
     "name": "stdout",
     "output_type": "stream",
     "text": [
      "True\n"
     ]
    }
   ],
   "source": [
    "def uses_all(word,s):\n",
    "    for i in s:\n",
    "        if i not in word:\n",
    "            return False\n",
    "    return True\n",
    "\n",
    "def main():\n",
    "    print(uses_all(\"Manasi\",\"asi\"))\n",
    "\n",
    "\n",
    "if __name__ == '__main__':\n",
    "    main()\n",
    "\n"
   ]
  },
  {
   "cell_type": "code",
   "execution_count": 3,
   "metadata": {},
   "outputs": [
    {
     "name": "stdout",
     "output_type": "stream",
     "text": [
      "598\n",
      "42\n"
     ]
    }
   ],
   "source": [
    "def count_str(list2,s1):\n",
    "    count1=0\n",
    "    \n",
    "    for i in list2:\n",
    "        x=True\n",
    "        for j in s1:\n",
    "            if j not in i:\n",
    "                x=False\n",
    "        if(x==True):\n",
    "            count1=count1+1\n",
    "    return count1\n",
    "\n",
    "def vowels_1(s1):\n",
    "    \n",
    "    file_handel=open(\"words.txt\",\"r\")\n",
    "    list1=file_handel.readlines()\n",
    "    list2=[]\n",
    "    for i in list1:\n",
    "        list2.append(i.strip(\"\\n\"))\n",
    "\n",
    "    return(count_str(list2,s1))\n",
    "s1=['a','e','i','o','u']\n",
    "s2= ['a','e','i','o','u','y']\n",
    "print(vowels_1(s1))\n",
    "print(vowels_1(s2))"
   ]
  },
  {
   "cell_type": "code",
   "execution_count": 24,
   "metadata": {},
   "outputs": [
    {
     "name": "stdout",
     "output_type": "stream",
     "text": [
      "97\n"
     ]
    }
   ],
   "source": [
    "print(ord(\"a\"))"
   ]
  },
  {
   "cell_type": "markdown",
   "metadata": {},
   "source": [
    "# HW04_ch09_ex06 Submission"
   ]
  },
  {
   "cell_type": "code",
   "execution_count": null,
   "metadata": {},
   "outputs": [],
   "source": [
    "#!/usr/bin/env python3\n",
    "\n",
    "# (1)\n",
    "# Write a function called is_abecedarian that returns True if the letters in a\n",
    "# word appear in alphabetical order (double letters are ok).\n",
    "#   - write is_abecedarian\n",
    "# (2)\n",
    "# How many abecedarian words are there in roster.txt?\n",
    "#   - write additional function(s) to assist you\n",
    "#   - number of abecedarian words:\n",
    "##############################################################################\n",
    "# Imports\n",
    "\n",
    "\n",
    "# Body\n",
    "def is_abecedarian(word):\n",
    "    return word == \"\".join(sorted(word))\n",
    "\n",
    "\n",
    "def how_many_abecedarian():\n",
    "    with open(\"words2.txt\", \"r\") as fin:\n",
    "        words = [word.strip() for word in fin.readlines()]\n",
    "    return sum([is_abecedarian(word) for word in words])\n",
    "\n",
    "\n",
    "##############################################################################\n",
    "def main():\n",
    "    pass  # Call your function(s) here.\n",
    "    # print(is_abecedarian(\"abc\"))\n",
    "    # print(is_abecedarian(\"zyxwvutsrqponmlkjihgfedcba\"))\n",
    "    print(how_many_abecedarian())\n",
    "\n",
    "\n",
    "if __name__ == '__main__':\n",
    "    main()\n",
    "\n"
   ]
  },
  {
   "cell_type": "code",
   "execution_count": 254,
   "metadata": {},
   "outputs": [
    {
     "name": "stdout",
     "output_type": "stream",
     "text": [
      "False\n"
     ]
    }
   ],
   "source": [
    "def is_abecedarian(word):\n",
    "    for i in range(len(word)-1):\n",
    "        #print(word[i])\n",
    "        #if(word[i]==sorted(word[i])):\n",
    "        if(ord(word[i].casefold())>ord(word[i+1].casefold())):\n",
    "            return False\n",
    "    return True\n",
    "\n",
    "def main():\n",
    "    print(is_abecedarian(\"barkha\")) \n",
    "\n",
    "if __name__ == '__main__':\n",
    "    main()"
   ]
  },
  {
   "cell_type": "code",
   "execution_count": 286,
   "metadata": {},
   "outputs": [
    {
     "name": "stdout",
     "output_type": "stream",
     "text": [
      "The total number of words following the alphabetical order are : 0 \n"
     ]
    }
   ],
   "source": [
    "def how_many_abecedarian():\n",
    "    file_handel=open(\"roster.txt\",\"r\")\n",
    "    list1=file_handel.readlines()\n",
    "    list2=[]\n",
    "    list3=[]\n",
    "    list4=[]\n",
    "    totalwords=0\n",
    "    \n",
    "    for i in list1:\n",
    "        list2.append(i.strip('\\n'))  \n",
    "    for j in list2:\n",
    "        list3.append(j.split(\" \"))\n",
    "   \n",
    "    for m in list3:\n",
    "        \n",
    "        for n in m:\n",
    "            \n",
    "            list4.append(is_abecedarian(n))\n",
    "            \n",
    "    for k in list4:\n",
    "        if(k==True):\n",
    "            totalwords=totalwords+1\n",
    "            \n",
    "        \n",
    "    return totalwords\n",
    "\n",
    "def main():\n",
    "    print(\"The total number of words following the alphabetical order are : {} \".format(how_many_abecedarian()))\n",
    "\n",
    "if __name__ == '__main__':\n",
    "    main()\n"
   ]
  },
  {
   "cell_type": "markdown",
   "metadata": {},
   "source": [
    "# HW04_ch10_ex01Submission"
   ]
  },
  {
   "cell_type": "code",
   "execution_count": 288,
   "metadata": {},
   "outputs": [
    {
     "name": "stdout",
     "output_type": "stream",
     "text": [
      "The total of the elements in the list is :25\n",
      "\n"
     ]
    }
   ],
   "source": [
    "def nested_sum(aList):\n",
    "    sum=0\n",
    "    for i in aList:\n",
    "        #print(i)\n",
    "        if(type(i)!=list):\n",
    "            sum=sum+i\n",
    "            #print(sum)\n",
    "        else:\n",
    "            sum=sum+nested_sum(i)\n",
    "    return sum\n",
    "\n",
    "def main():\n",
    "    print(\"The total of the elements in the list is :{}\\n\".format(nested_sum([1,2,3,[1,2,3],[3,1,[2,3,4]]])))\n",
    "\n",
    "if __name__ == '__main__':\n",
    "    main()\n",
    "\n",
    "\n",
    "\n",
    "               \n",
    "        "
   ]
  }
 ],
 "metadata": {
  "kernelspec": {
   "display_name": "Python 3",
   "language": "python",
   "name": "python3"
  },
  "language_info": {
   "codemirror_mode": {
    "name": "ipython",
    "version": 3
   },
   "file_extension": ".py",
   "mimetype": "text/x-python",
   "name": "python",
   "nbconvert_exporter": "python",
   "pygments_lexer": "ipython3",
   "version": "3.7.3"
  }
 },
 "nbformat": 4,
 "nbformat_minor": 2
}
