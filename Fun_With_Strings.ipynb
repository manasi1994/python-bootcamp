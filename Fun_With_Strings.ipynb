{
 "cells": [
  {
   "cell_type": "markdown",
   "metadata": {},
   "source": [
    "# Strings in Python\n",
    "We are going to learn more about strings which have interesting proprerties in Python\n",
    "\n",
    "Strings are treated as lists. Here are some cool things that we can do with them:\n",
    "- Get part of the string `newString[0]`\n",
    "- Reverse a string `newString[::-1]`\n",
    "- Split String `newString.split(' ')`\n"
   ]
  },
  {
   "cell_type": "code",
   "execution_count": 5,
   "metadata": {},
   "outputs": [],
   "source": [
    "newString = \"UC Berkeley School Of Information\""
   ]
  },
  {
   "cell_type": "code",
   "execution_count": 6,
   "metadata": {},
   "outputs": [
    {
     "data": {
      "text/plain": [
       "'UC Be'"
      ]
     },
     "execution_count": 6,
     "metadata": {},
     "output_type": "execute_result"
    }
   ],
   "source": [
    "newString[0:5]"
   ]
  },
  {
   "cell_type": "code",
   "execution_count": 7,
   "metadata": {},
   "outputs": [
    {
     "data": {
      "text/plain": [
       "'noitamrofnI fO loohcS yelekreB CU'"
      ]
     },
     "execution_count": 7,
     "metadata": {},
     "output_type": "execute_result"
    }
   ],
   "source": [
    "newString[::-1]"
   ]
  },
  {
   "cell_type": "code",
   "execution_count": 8,
   "metadata": {},
   "outputs": [
    {
     "data": {
      "text/plain": [
       "['UC', 'Berkeley', 'School', 'Of', 'Information']"
      ]
     },
     "execution_count": 8,
     "metadata": {},
     "output_type": "execute_result"
    }
   ],
   "source": [
    "newString.split(\" \")"
   ]
  },
  {
   "cell_type": "code",
   "execution_count": 9,
   "metadata": {},
   "outputs": [],
   "source": [
    "a,b,c,=0,False,\"hi guys\"\n"
   ]
  },
  {
   "cell_type": "code",
   "execution_count": 10,
   "metadata": {
    "scrolled": true
   },
   "outputs": [
    {
     "data": {
      "text/plain": [
       "(0, False, 'hi guys')"
      ]
     },
     "execution_count": 10,
     "metadata": {},
     "output_type": "execute_result"
    }
   ],
   "source": [
    "a,b,c"
   ]
  },
  {
   "cell_type": "markdown",
   "metadata": {},
   "source": [
    "# Try and Except"
   ]
  },
  {
   "cell_type": "code",
   "execution_count": 15,
   "metadata": {},
   "outputs": [
    {
     "name": "stdout",
     "output_type": "stream",
     "text": [
      "Give me a number: manasi\n",
      "You screwed up something!\n",
      "Give me a number: khanuja\n",
      "You screwed up something!\n",
      "Give me a number: 2\n",
      "The number is: 2\n"
     ]
    }
   ],
   "source": [
    "while True:\n",
    "    try:\n",
    "        x=int(input(\"Give me a number: \"))\n",
    "        break\n",
    "    except ValueError:\n",
    "        print(\"You screwed up something!\")\n",
    "print(\"The number is: {}\".format(x))\n",
    "    "
   ]
  },
  {
   "cell_type": "code",
   "execution_count": null,
   "metadata": {},
   "outputs": [
    {
     "name": "stdout",
     "output_type": "stream",
     "text": [
      "Give me a number2\n",
      "The number is :  2\n",
      "Let's do it again\n",
      "Give me a number3\n",
      "The number is :  3\n",
      "Let's do it again\n",
      "Give me a number4\n",
      "The number is :  4\n",
      "Let's do it again\n",
      "Give me a number5\n",
      "The number is :  5\n",
      "Let's do it again\n",
      "Give me a numberhi\n",
      "That is not a number,so here's one! 3\n",
      "Let's do it again\n"
     ]
    }
   ],
   "source": [
    "while True:\n",
    "    try:\n",
    "        x=int(input(\"Give me a number\"))\n",
    "    except ValueError:\n",
    "        x=3\n",
    "        print(\"That is not a number,so here's one!\",x)\n",
    "    else:\n",
    "        print(\"The number is : \",x)\n",
    "    finally:\n",
    "        print(\"Let's do it again\")\n",
    "        "
   ]
  },
  {
   "cell_type": "code",
   "execution_count": null,
   "metadata": {},
   "outputs": [],
   "source": []
  }
 ],
 "metadata": {
  "kernelspec": {
   "display_name": "Python 3",
   "language": "python",
   "name": "python3"
  },
  "language_info": {
   "codemirror_mode": {
    "name": "ipython",
    "version": 3
   },
   "file_extension": ".py",
   "mimetype": "text/x-python",
   "name": "python",
   "nbconvert_exporter": "python",
   "pygments_lexer": "ipython3",
   "version": "3.7.3"
  }
 },
 "nbformat": 4,
 "nbformat_minor": 2
}
