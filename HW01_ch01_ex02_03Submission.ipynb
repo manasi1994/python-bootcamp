{
 "cells": [
  {
   "cell_type": "markdown",
   "metadata": {},
   "source": [
    "# HW01_ch01_ex02_03\n",
    "\n",
    "# Exercise 1:\n",
    "- If you run a 10 kilometer race in 42 minutes 42 seconds, what is your\n",
    "average pace (time per mile in minutes and seconds)? What is your average speed in miles per hour?\n"
   ]
  },
  {
   "cell_type": "code",
   "execution_count": null,
   "metadata": {},
   "outputs": [],
   "source": [
    "#Output\n",
    "\"\"\"\n",
    "\n",
    "# Average Pace (minutes & seconds per mile): 6 minutes 52 seconds\n",
    "# Average Speed in MPH: 8.725995316159251 MPH\n",
    "\n",
    "\n",
    ">>> distance=0.621*10\n",
    ">>> time=42*60+42\n",
    ">>> time\n",
    "2562\n",
    ">>> time=time/60\n",
    ">>> time\n",
    "42.7\n",
    ">>> temp_pace=time/distance\n",
    ">>> temp_pace\n",
    "6.876006441223833\n",
    ">>> time_sec=0.87*60\n",
    ">>> time_sec\n",
    "52.2\n",
    ">>> pace=\"6 minutes and {} seconds per mile \".format(time_sec)\n",
    ">>> pace=\"The pace is 6 minutes and {} seconds per mile \".format(time_sec)\n",
    ">>> pace\n",
    "'The pace is 6 minutes and 52.2 seconds per mile '\n",
    ">>> time_hour=(42*60+42)/3600\n",
    ">>> time_hour\n",
    "0.7116666666666667\n",
    ">>> avg_speed=distance/time_hour\n",
    ">>> avg_speed\n",
    "8.725995316159251\n",
    ">>> print(\"The average speed is {} miles per hour\".format(avg_speed))\n",
    "The average speed is 8.725995316159251 miles per hour\n",
    ">>> \n",
    "\n",
    "\n",
    "\n",
    "\"\"\""
   ]
  }
 ],
 "metadata": {
  "kernelspec": {
   "display_name": "Python 3",
   "language": "python",
   "name": "python3"
  },
  "language_info": {
   "codemirror_mode": {
    "name": "ipython",
    "version": 3
   },
   "file_extension": ".py",
   "mimetype": "text/x-python",
   "name": "python",
   "nbconvert_exporter": "python",
   "pygments_lexer": "ipython3",
   "version": "3.7.3"
  }
 },
 "nbformat": 4,
 "nbformat_minor": 2
}
