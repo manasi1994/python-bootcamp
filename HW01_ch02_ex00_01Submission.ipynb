{
 "cells": [
  {
   "cell_type": "markdown",
   "metadata": {},
   "source": [
    "# HW01_ch02_ex00_01\n",
    "\n",
    "## Question 1 :\n",
    "Type the following statements in the Python interpreter to see what they do:\n",
    "- 5\n",
    "- x = 5\n",
    "- x + 1\n",
    "\n",
    "## Question 2 : \n",
    "Now put the same statements into a script and run it.\n",
    "\n",
    "## Question 3 : \n",
    "Modify the script above by transforming each expression into a print statement and then run it again. What is the output?"
   ]
  },
  {
   "cell_type": "code",
   "execution_count": null,
   "metadata": {},
   "outputs": [],
   "source": [
    "#Output1\n",
    "\"\"\">>> 5\n",
    "5\n",
    ">>> x=5\n",
    ">>> x+1\n",
    "6\n",
    ">>> \n",
    "\n",
    "\"\"\""
   ]
  },
  {
   "cell_type": "code",
   "execution_count": 1,
   "metadata": {},
   "outputs": [
    {
     "name": "stdout",
     "output_type": "stream",
     "text": [
      "Hello World!\n"
     ]
    }
   ],
   "source": [
    "#Output 2\n",
    "\n",
    "5\n",
    "x=5\n",
    "x+1\n",
    "print(\"Hello World!\")"
   ]
  },
  {
   "cell_type": "code",
   "execution_count": 2,
   "metadata": {},
   "outputs": [
    {
     "name": "stdout",
     "output_type": "stream",
     "text": [
      "5\n",
      "6\n",
      "Hello World\n"
     ]
    }
   ],
   "source": [
    "#Output3\n",
    "print(5)\n",
    "x=5\n",
    "print(x+1)\n",
    "print(\"Hello World\")"
   ]
  }
 ],
 "metadata": {
  "kernelspec": {
   "display_name": "Python 3",
   "language": "python",
   "name": "python3"
  },
  "language_info": {
   "codemirror_mode": {
    "name": "ipython",
    "version": 3
   },
   "file_extension": ".py",
   "mimetype": "text/x-python",
   "name": "python",
   "nbconvert_exporter": "python",
   "pygments_lexer": "ipython3",
   "version": "3.7.3"
  }
 },
 "nbformat": 4,
 "nbformat_minor": 2
}
