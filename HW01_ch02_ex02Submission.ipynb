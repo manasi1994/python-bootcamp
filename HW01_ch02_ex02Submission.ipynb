{
 "cells": [
  {
   "cell_type": "markdown",
   "metadata": {},
   "source": [
    "# HW01_ch02_ex02\n",
    "\n",
    "## Solved the questions given below in the interpreter and printed the output obtained.\n",
    "\n",
    "### Question 1 :\n",
    "- The volume of a sphere with radius r is 4/3 π r^3. What is the volume of a sphere with radius 5?\n",
    "\n",
    "### Question 2 :\n",
    "- Suppose the cover price of a book is $24.95, but bookstores get a 40% discount. Shipping costs $3 for the first copy and 75 cents for \n",
    "  each additional copy. What is the total wholesale cost for 60 copies?\n",
    "\n",
    "\n",
    "### Question 3 :\n",
    "- If I leave my house at 6:52 am and run 1 mile at an easy pace (8:15 per mile), then 3 miles at tempo (7:12 per mile) and 1 mile at easy\n",
    "  pace again, what time do I get home for breakfast?\n"
   ]
  },
  {
   "cell_type": "code",
   "execution_count": null,
   "metadata": {},
   "outputs": [],
   "source": [
    "#Output1\n",
    "\n",
    "#Answer =523.3333333333334\n",
    "\n",
    "\"\"\"\">>> pi=3.14\n",
    ">>> (4/3)*pi*(5**3)\n",
    "523.3333333333334\"\"\"\n",
    "\n",
    "#Output2\n",
    "#Answer =945.4499999999999\n",
    "\n",
    "\"\"\"\">>> cover_price=24.95\n",
    ">>> discount=0.4\n",
    ">>> temp=24.95-0.4*24.95\n",
    ">>> total_after_discount=temp*60\n",
    ">>> total_after_discount\n",
    "898.1999999999999\n",
    ">>> shipping_cost=0.75*59 + 3\n",
    ">>> shipping_cost\n",
    "47.25\n",
    ">>> wholesale_Cost=shipping_cost+total_after_discount\n",
    ">>> wholesale_Cost\n",
    "945.4499999999999\n",
    ">>> \"\"\"\"\n",
    "\n",
    "#Output 3 :\n",
    "#Answer= 7:38 am"
   ]
  }
 ],
 "metadata": {
  "kernelspec": {
   "display_name": "Python 3",
   "language": "python",
   "name": "python3"
  },
  "language_info": {
   "codemirror_mode": {
    "name": "ipython",
    "version": 3
   },
   "file_extension": ".py",
   "mimetype": "text/x-python",
   "name": "python",
   "nbconvert_exporter": "python",
   "pygments_lexer": "ipython3",
   "version": "3.7.3"
  }
 },
 "nbformat": 4,
 "nbformat_minor": 2
}
