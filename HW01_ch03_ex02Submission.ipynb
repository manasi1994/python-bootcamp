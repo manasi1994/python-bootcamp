{
 "cells": [
  {
   "cell_type": "markdown",
   "metadata": {},
   "source": [
    "\n",
    "# HW02_ch03_ex02\n",
    "\n",
    "## Question 1 : \n",
    "- Function Def :\n",
    "    def do_twice(f):\n",
    "        f()\n",
    "        f()\n",
    "### Example\n",
    "- Here's an example that uses `do_twice` to call a function named `print_spam` twice.\n",
    "  def print_spam():\n",
    "        print('spam')\n",
    "\n",
    "### Function Call\n",
    "- do_twice(print_spam)\n",
    "\n",
    "### Solved the below questions in the script below.\n",
    "- Type this example into this script and test it.\n",
    "- Modify `do_twice` so that it takes two arguments, a function object and a value, and calls the function twice, passing the value as an argument.\n",
    "- Write a more general version of `print_spam`, called `print_twice`, that takes a string as a parameter and prints it twice.\n",
    "- Use the modified version of `do_twice` to call `print_twice` twice, passing 'spam' as an argument.\n",
    "- Define a new function called `do_four` that takes a function object and a value and calls the function four times,\n",
    "  passing the value as a parameter.There should be only two statements in the body of this function, not four.\n"
   ]
  },
  {
   "cell_type": "code",
   "execution_count": 6,
   "metadata": {},
   "outputs": [
    {
     "name": "stdout",
     "output_type": "stream",
     "text": [
      "spam\n",
      "spam\n",
      "spam\n",
      "spam\n",
      "spam\n",
      "spam\n",
      "spam\n",
      "spam\n"
     ]
    }
   ],
   "source": [
    "#Body\n",
    "def do_twice(f,val):\n",
    "    f(val)\n",
    "    f(val)\n",
    "\n",
    "def print_twice(val):\n",
    "    print(val)\n",
    "    print(val)\n",
    "\n",
    "def do_four(f,val):\n",
    "    f(val)\n",
    "    f(val)\n",
    "    f(val)\n",
    "    f(val)\n",
    "\n",
    "def main():\n",
    "    do_four(print_twice,'spam')\n",
    "    \n",
    "\n",
    "if __name__ == \"__main__\":\n",
    "    main()\n"
   ]
  },
  {
   "cell_type": "code",
   "execution_count": null,
   "metadata": {},
   "outputs": [],
   "source": []
  }
 ],
 "metadata": {
  "kernelspec": {
   "display_name": "Python 3",
   "language": "python",
   "name": "python3"
  },
  "language_info": {
   "codemirror_mode": {
    "name": "ipython",
    "version": 3
   },
   "file_extension": ".py",
   "mimetype": "text/x-python",
   "name": "python",
   "nbconvert_exporter": "python",
   "pygments_lexer": "ipython3",
   "version": "3.7.3"
  }
 },
 "nbformat": 4,
 "nbformat_minor": 2
}
