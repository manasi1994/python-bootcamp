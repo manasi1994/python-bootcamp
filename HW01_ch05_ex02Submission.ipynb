{
 "cells": [
  {
   "cell_type": "markdown",
   "metadata": {},
   "source": [
    "# HW02_ch05_ex02\n",
    "\n",
    "## Function 1 : check_fermat\n",
    "- The function named `check_fermat` takes four parameters-a, b, c\n",
    " and n-and that checks to see if Fermat's theorem holds. If n is greater than 2 and it turns out to be true that a^n + b^n = c^n\n",
    " the program prints, \"Holy smokes, Fermat was wrong!\"\"\n",
    " Otherwise the program prints, \"No, that doesn't work.\"\n",
    "\n",
    "## Function 2 : check_fermat_ints\n",
    "- The function  `check_fermat_ints` prompts the user to input values for a, b, c and n, converts them to integers, and uses check_fermat\n",
    " checks whether they violate Fermat's theorem.\n"
   ]
  },
  {
   "cell_type": "code",
   "execution_count": 6,
   "metadata": {},
   "outputs": [
    {
     "name": "stdout",
     "output_type": "stream",
     "text": [
      "Please enter the value for integer 1 3\n",
      "Please enter the value for integer 2 2\n",
      "Please enter the value for integer 3 1\n",
      "Please enter the value for n 2\n",
      "The fermat theoram holds true.\n"
     ]
    }
   ],
   "source": [
    "def check_fermat(a,b,c,n):\n",
    "    if(n>2):\n",
    "        if(a**n + b**n)==c^n:\n",
    "            return(print(\"Holy smokes, Fermat was wrong!\"))\n",
    "        else:\n",
    "            return(print(\"No,that doesn't work.\"))\n",
    "    else:\n",
    "        return(print(\"The fermat theoram holds true.\"))\n",
    "\n",
    "def check_fermat_ints(a,b,c,n):\n",
    "    a=int(input(\"Please enter the value for integer 1 \"))\n",
    "    b=int(input(\"Please enter the value for integer 2 \"))\n",
    "    c=int(input(\"Please enter the value for integer 3 \"))\n",
    "    n=int(input(\"Please enter the value for n \"))\n",
    "    check_fermat(a,b,c,n)\n",
    "    \n",
    "def main():\n",
    "    check_fermat_ints(1,2,3,4)\n",
    "    \n",
    "\n",
    "if __name__ == \"__main__\":\n",
    "    main()\n",
    "    \n",
    "    "
   ]
  },
  {
   "cell_type": "code",
   "execution_count": null,
   "metadata": {},
   "outputs": [],
   "source": []
  }
 ],
 "metadata": {
  "kernelspec": {
   "display_name": "Python 3",
   "language": "python",
   "name": "python3"
  },
  "language_info": {
   "codemirror_mode": {
    "name": "ipython",
    "version": 3
   },
   "file_extension": ".py",
   "mimetype": "text/x-python",
   "name": "python",
   "nbconvert_exporter": "python",
   "pygments_lexer": "ipython3",
   "version": "3.7.3"
  }
 },
 "nbformat": 4,
 "nbformat_minor": 2
}
