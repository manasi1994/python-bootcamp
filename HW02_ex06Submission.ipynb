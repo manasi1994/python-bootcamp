{
 "cells": [
  {
   "cell_type": "markdown",
   "metadata": {},
   "source": [
    "# Exercise 1 - Comparing two values\n",
    "- The compare function takes two values, x and y, and returns 1 if x > y, 0 if x == y, and -1 if x < y.\"\n",
    "\n",
    "# Exercise 2 : Hypotenuse\n",
    "- The function - hypotenuse,returns the length of the hypotenuse of a right triangle given thewhen the lengths of the   other two legs are passed as arguments.\n",
    "\n",
    "# Exercise 3 - is_between\n",
    "- The function is_between(x, y, z) returns True if x ≤ y ≤ z and \"False\" otherwise\n",
    "\n",
    "# Exercise 4 - is_palidrome\n",
    "The function is_palindrome takes a string argument and returns True if it is a palindrome and False otherwise.\n",
    "\n",
    "# Exercise 5: Power of b\n",
    "- A number, a, is a power of b if it is divisible by b and a/b is a power of b. \n",
    "- The function  is_power takes parameters as a and b and returns True if a is a power of b. "
   ]
  },
  {
   "cell_type": "code",
   "execution_count": 2,
   "metadata": {
    "scrolled": false
   },
   "outputs": [
    {
     "name": "stdout",
     "output_type": "stream",
     "text": [
      "0\n",
      "-1\n",
      "1\n",
      "1.4142135623730951\n",
      "5.0\n",
      "12.059850745345068\n",
      "True\n",
      "False\n",
      "False\n",
      "True\n",
      "False\n",
      "True\n",
      "True\n",
      "True\n",
      "False\n",
      "True\n",
      "True\n",
      "False\n"
     ]
    }
   ],
   "source": [
    "#Body\n",
    "import math\n",
    "\n",
    "def compare(a,b):\n",
    "    if(a>b):\n",
    "        return 1\n",
    "    elif (a==b):\n",
    "        return 0\n",
    "    else:\n",
    "        return -1\n",
    "def hypotenuse(b,h):\n",
    "    hypo=math.sqrt(b*b + h*h)\n",
    "    return hypo\n",
    "\n",
    "def is_between(a,b,c):\n",
    "    if(a<=b and b<=c):\n",
    "        return True\n",
    "    else:\n",
    "        return False\n",
    "\n",
    "def is_palindrome(word):\n",
    "    #word=input(\"Please enter a word! \")\n",
    "    temp=word[::-1]\n",
    "    if(temp==word):\n",
    "        return True\n",
    "    else:\n",
    "        return False\n",
    "\n",
    "def is_power(x,y):\n",
    "    if(x==y or x==1):\n",
    "        return True\n",
    "    elif(x%y==0):\n",
    "        return is_power(x/y,y)\n",
    "        \n",
    "    else:\n",
    "        return False\n",
    "def main():\n",
    "    # #Exercise 1\n",
    "    print(compare(1, 1))\n",
    "    print(compare(1, 2))\n",
    "    print(compare(2, 1))\n",
    "    # # # Exercise 2\n",
    "    print(hypotenuse(1, 1))\n",
    "    print(hypotenuse(3, 4))\n",
    "    print(hypotenuse(1.2, 12))\n",
    "    # # # Exercise 3\n",
    "    print(is_between(1, 2, 3))\n",
    "    print(is_between(2, 1, 3))\n",
    "    print(is_between(3, 1, 2))\n",
    "    print(is_between(1, 1, 2))\n",
    "    # # # Exercise 6\n",
    "    print(is_palindrome(\"Python\"))\n",
    "    print(is_palindrome(\"evitative\"))\n",
    "    print(is_palindrome(\"sememes\"))\n",
    "    print(is_palindrome(\"oooooooooooo\"))\n",
    "    # # # Exercise 7\n",
    "    print(is_power(28, 3))\n",
    "    print(is_power(27, 3))\n",
    "    print(is_power(248832, 12))\n",
    "    print(is_power(248844, 12))\n",
    "\n",
    "if __name__ == \"__main__\":\n",
    "    main()"
   ]
  },
  {
   "cell_type": "code",
   "execution_count": null,
   "metadata": {},
   "outputs": [],
   "source": []
  }
 ],
 "metadata": {
  "kernelspec": {
   "display_name": "Python 3",
   "language": "python",
   "name": "python3"
  },
  "language_info": {
   "codemirror_mode": {
    "name": "ipython",
    "version": 3
   },
   "file_extension": ".py",
   "mimetype": "text/x-python",
   "name": "python",
   "nbconvert_exporter": "python",
   "pygments_lexer": "ipython3",
   "version": "3.7.3"
  }
 },
 "nbformat": 4,
 "nbformat_minor": 2
}
