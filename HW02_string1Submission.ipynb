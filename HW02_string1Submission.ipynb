{
 "cells": [
  {
   "cell_type": "markdown",
   "metadata": {},
   "source": [
    "# HW03_string1\n",
    "\n",
    "# Exercise 1 : Donuts\n",
    " - Given an int count of a number of donuts, the function returns a string\n",
    "of the form 'Number of donuts: <count>', where <count> is the number passed in.\n",
    " - If the count is 10 or more, then the word 'many' is returned.\n",
    "\n",
    "# Exercise 2 : Both_ends\n",
    "- Given a string s, the function below return a string made of the first 2 and the last 2 chars of the original string.\n",
    "\n",
    "\n",
    "# Exercise 3 : fix_start\n",
    "- Given a string s, the function returns a string where all occurences of its first char have been changed to '*', except does change the first char itself.\n",
    "\n",
    "\n",
    "# Exercise 4. MixUp\n",
    "- Given strings a and b, the function returns a single string with a and b separated by a space '<a> <b>', except swaps the first 2 chars of each string.\n",
    "\n",
    "\n",
    "# Test :\n",
    "- This function returns what each function return vs.  what it is  supposed to return.\n"
   ]
  },
  {
   "cell_type": "code",
   "execution_count": 74,
   "metadata": {
    "scrolled": true
   },
   "outputs": [
    {
     "name": "stdout",
     "output_type": "stream",
     "text": [
      "\n",
      "both_ends\n",
      " OK  got: 'spng' expected: 'spng'\n",
      " OK  got: 'Helo' expected: 'Helo'\n",
      " OK  got: '' expected: ''\n",
      " OK  got: 'xyyz' expected: 'xyyz'\n",
      "\n",
      "fix_start\n",
      " OK  got: 'ba**le' expected: 'ba**le'\n",
      " OK  got: 'a*rdv*rk' expected: 'a*rdv*rk'\n",
      " OK  got: 'goo*le' expected: 'goo*le'\n",
      "  X  got: 'd' expected: 'donut'\n",
      "\n",
      "mix_up\n",
      " OK  got: 'pox mid' expected: 'pox mid'\n",
      " OK  got: 'dig donner' expected: 'dig donner'\n",
      " OK  got: 'spash gnort' expected: 'spash gnort'\n",
      " OK  got: 'fizzy perm' expected: 'fizzy perm'\n"
     ]
    }
   ],
   "source": [
    "def donuts(count):\n",
    "    if(count<10):\n",
    "        return(\"Number of donuts: {}\".format(count))\n",
    "    else:\n",
    "        return(\"Number of donuts: many\")\n",
    "\n",
    "\n",
    "def both_ends(s):\n",
    "    if(len(s)<2):\n",
    "        return \"\"\n",
    "    else:\n",
    "        temp1=s[0:2]\n",
    "        temp2=s[-2:]\n",
    "        return temp1+temp2\n",
    "    \n",
    "    \n",
    "    \n",
    "def test(got, expected):\n",
    "    if got == expected:\n",
    "        prefix = ' OK '\n",
    "    else:\n",
    "        prefix = '  X '\n",
    "    print('{} got: {} expected: {}'.format(prefix, repr(got), repr(expected)))\n",
    "\n",
    "\n",
    "def fix_start(s):\n",
    "    t1=s[0]\n",
    "    count=len(s)-1\n",
    "    newstring=s[1:]\n",
    "    t2=''\n",
    "    for char in newstring:\n",
    "        if char==t1:\n",
    "            t2=newstring.replace(char,'*')\n",
    "    return t1+t2\n",
    "\n",
    "\n",
    "print()\n",
    "print('both_ends')\n",
    "test(both_ends('spring'), 'spng')\n",
    "test(both_ends('Hello'), 'Helo')\n",
    "test(both_ends('a'), '')\n",
    "test(both_ends('xyz'), 'xyyz')\n",
    "\n",
    "print()\n",
    "print('fix_start')\n",
    "test(fix_start('babble'), 'ba**le')\n",
    "test(fix_start('aardvark'), 'a*rdv*rk')\n",
    "test(fix_start('google'), 'goo*le')\n",
    "test(fix_start('donut'), 'donut')\n",
    "\n",
    "print()\n",
    "print('mix_up')\n",
    "test(mix_up('mix', 'pod'), 'pox mid')\n",
    "test(mix_up('dog', 'dinner'), 'dig donner')\n",
    "test(mix_up('gnash', 'sport'), 'spash gnort')\n",
    "test(mix_up('pezzy', 'firm'), 'fizzy perm')\n"
   ]
  },
  {
   "cell_type": "code",
   "execution_count": null,
   "metadata": {},
   "outputs": [],
   "source": []
  },
  {
   "cell_type": "code",
   "execution_count": null,
   "metadata": {},
   "outputs": [],
   "source": []
  }
 ],
 "metadata": {
  "kernelspec": {
   "display_name": "Python 3",
   "language": "python",
   "name": "python3"
  },
  "language_info": {
   "codemirror_mode": {
    "name": "ipython",
    "version": 3
   },
   "file_extension": ".py",
   "mimetype": "text/x-python",
   "name": "python",
   "nbconvert_exporter": "python",
   "pygments_lexer": "ipython3",
   "version": "3.7.3"
  }
 },
 "nbformat": 4,
 "nbformat_minor": 2
}
